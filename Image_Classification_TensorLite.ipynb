{
  "cells": [
    {
      "cell_type": "code",
      "execution_count": 2,
      "metadata": {
        "colab": {
          "base_uri": "https://localhost:8080/"
        },
        "id": "QN0fy9lgwIYX",
        "outputId": "5474949f-552c-4110-ad98-4014b114c1c1"
      },
      "outputs": [
        {
          "output_type": "stream",
          "name": "stdout",
          "text": [
            "Mounted at /content/drive\n"
          ]
        }
      ],
      "source": [
        "from google.colab import drive\n",
        "drive.mount('/content/drive')"
      ]
    },
    {
      "cell_type": "code",
      "execution_count": 3,
      "metadata": {
        "colab": {
          "base_uri": "https://localhost:8080/"
        },
        "id": "pnU8m6ppdEmL",
        "outputId": "926849ed-5923-4b85-8415-807527416443"
      },
      "outputs": [
        {
          "output_type": "stream",
          "name": "stdout",
          "text": [
            "/content/drive/MyDrive/Dicoding_Machine_Learning_2/Submission3\n"
          ]
        }
      ],
      "source": [
        "%cd /content/drive/MyDrive/Dicoding_Machine_Learning_2/Submission3"
      ]
    },
    {
      "cell_type": "code",
      "execution_count": 4,
      "metadata": {
        "colab": {
          "base_uri": "https://localhost:8080/"
        },
        "id": "FZUnJU7mdsmf",
        "outputId": "875c286b-427d-4413-89ab-16879b783fd7"
      },
      "outputs": [
        {
          "output_type": "stream",
          "name": "stdout",
          "text": [
            "Found 13679 images belonging to 3 classes.\n",
            "Found 3419 images belonging to 3 classes.\n"
          ]
        }
      ],
      "source": [
        "import tensorflow as tf\n",
        "from tensorflow.keras.preprocessing.image import ImageDataGenerator\n",
        "\n",
        "dir = 'cardataset'\n",
        "train_datagen = ImageDataGenerator(\n",
        "    rescale = 1.0/255.0,\n",
        "    validation_split=0.2\n",
        ")\n",
        "\n",
        "train_generator = train_datagen.flow_from_directory(\n",
        "    dir,\n",
        "    target_size=(150,150),\n",
        "    batch_size=32,\n",
        "    class_mode='categorical',\n",
        "    subset='training'\n",
        ")\n",
        "\n",
        "validation_generator = train_datagen.flow_from_directory(\n",
        "    dir,\n",
        "    target_size=(150,150),\n",
        "    batch_size=32,\n",
        "    class_mode='categorical',\n",
        "    subset='validation'\n",
        ")"
      ]
    },
    {
      "cell_type": "code",
      "execution_count": 5,
      "metadata": {
        "colab": {
          "base_uri": "https://localhost:8080/"
        },
        "id": "R8beEDNo1kJg",
        "outputId": "2283d99c-f1b0-48b1-c3af-2f86f684b397"
      },
      "outputs": [
        {
          "output_type": "stream",
          "name": "stdout",
          "text": [
            "Downloading data from https://storage.googleapis.com/tensorflow/keras-applications/vgg16/vgg16_weights_tf_dim_ordering_tf_kernels_notop.h5\n",
            "58892288/58889256 [==============================] - 0s 0us/step\n",
            "58900480/58889256 [==============================] - 0s 0us/step\n",
            "Model: \"sequential\"\n",
            "_________________________________________________________________\n",
            " Layer (type)                Output Shape              Param #   \n",
            "=================================================================\n",
            " vgg16 (Functional)          (None, 4, 4, 512)         14714688  \n",
            "                                                                 \n",
            " flatten (Flatten)           (None, 8192)              0         \n",
            "                                                                 \n",
            " dense_1 (Dense)             (None, 256)               2097408   \n",
            "                                                                 \n",
            " dropout (Dropout)           (None, 256)               0         \n",
            "                                                                 \n",
            " dense_2 (Dense)             (None, 128)               32896     \n",
            "                                                                 \n",
            " dense (Dense)               (None, 3)                 387       \n",
            "                                                                 \n",
            "=================================================================\n",
            "Total params: 16,845,379\n",
            "Trainable params: 2,130,691\n",
            "Non-trainable params: 14,714,688\n",
            "_________________________________________________________________\n"
          ]
        }
      ],
      "source": [
        "import tensorflow as tf\n",
        "from tensorflow.keras.layers import Input\n",
        "\n",
        "base_model = tf.keras.applications.vgg16.VGG16(\n",
        "    input_tensor=Input(shape=(150,150,3)),\n",
        "    include_top=False,\n",
        "    weights='imagenet'\n",
        ")\n",
        "for layer in base_model.layers:\n",
        "    layer.trainable = False\n",
        "\n",
        "prediction_layer = tf.keras.layers.Dense(3, activation='softmax')\n",
        "\n",
        "#arsitektur VGG16 sudah mengandung conv2d dan maxpool\n",
        "model = tf.keras.Sequential([\n",
        "  base_model,\n",
        "  tf.keras.layers.Flatten(),\n",
        "  tf.keras.layers.Dense(256, activation='relu'),\n",
        "  tf.keras.layers.Dropout(0.2),\n",
        "  tf.keras.layers.Dense(128, activation='relu'),\n",
        "  prediction_layer\n",
        "])\n",
        "model.summary()\n",
        "model.compile(optimizer=tf.keras.optimizers.Adam(learning_rate=0.01),\n",
        "              loss=tf.keras.losses.CategoricalCrossentropy(),\n",
        "              metrics=['accuracy'])"
      ]
    },
    {
      "cell_type": "code",
      "execution_count": 6,
      "metadata": {
        "id": "xYno86tIuWCt"
      },
      "outputs": [],
      "source": [
        "class myCallbacks(tf.keras.callbacks.Callback):\n",
        "  def on_epoch_end(self, epoch, logs={}):\n",
        "    if(logs.get('accuracy')>0.92 and logs.get('val_accuracy')>0.92):\n",
        "      print('Akurasi Tercapai')\n",
        "      self.model.stop_training = True\n",
        "callback = myCallbacks()"
      ]
    },
    {
      "cell_type": "code",
      "execution_count": 7,
      "metadata": {
        "colab": {
          "base_uri": "https://localhost:8080/"
        },
        "id": "Wh-8qvC5lK_I",
        "outputId": "93b10ee4-1aa9-4802-c62e-0af708d5309b"
      },
      "outputs": [
        {
          "output_type": "stream",
          "name": "stdout",
          "text": [
            "Epoch 1/40\n",
            "128/128 - 1754s - loss: 1.5258 - accuracy: 0.8110 - val_loss: 0.2426 - val_accuracy: 0.9090 - 1754s/epoch - 14s/step\n",
            "Epoch 2/40\n",
            "128/128 - 1577s - loss: 0.2830 - accuracy: 0.8875 - val_loss: 0.2403 - val_accuracy: 0.8994 - 1577s/epoch - 12s/step\n",
            "Epoch 3/40\n",
            "128/128 - 1573s - loss: 0.2746 - accuracy: 0.8984 - val_loss: 0.2409 - val_accuracy: 0.9079 - 1573s/epoch - 12s/step\n",
            "Epoch 4/40\n",
            "128/128 - 1580s - loss: 0.2551 - accuracy: 0.9050 - val_loss: 0.1816 - val_accuracy: 0.9257 - 1580s/epoch - 12s/step\n",
            "Epoch 5/40\n",
            "128/128 - 1574s - loss: 0.2431 - accuracy: 0.9097 - val_loss: 0.2401 - val_accuracy: 0.9158 - 1574s/epoch - 12s/step\n",
            "Epoch 6/40\n",
            "Akurasi Tercapai\n",
            "128/128 - 1572s - loss: 0.2130 - accuracy: 0.9202 - val_loss: 0.1893 - val_accuracy: 0.9237 - 1572s/epoch - 12s/step\n",
            "INFO:tensorflow:Assets written to: trained_model/assets\n"
          ]
        }
      ],
      "source": [
        "with tf.device('/GPU:0'):\n",
        "  history = model.fit(\n",
        "    train_generator,\n",
        "    validation_data=validation_generator,\n",
        "    epochs=40,\n",
        "    steps_per_epoch=128,\n",
        "    batch_size=64,\n",
        "    callbacks=[callback],\n",
        "    verbose=2\n",
        "    )\n",
        "\n",
        "export_dir = 'trained_model/'\n",
        "tf.saved_model.save(model, export_dir)"
      ]
    },
    {
      "cell_type": "code",
      "source": [
        "import matplotlib.pyplot as plt\n",
        "\n",
        "plt.plot(history.history['accuracy'])\n",
        "plt.plot(history.history['val_accuracy'])\n",
        "plt.title('Plot Akurasi')\n",
        "plt.ylabel('accuracy')\n",
        "plt.xlabel('epoch')\n",
        "plt.legend(['train', 'val'], loc='upper left')\n",
        "plt.show()"
      ],
      "metadata": {
        "colab": {
          "base_uri": "https://localhost:8080/",
          "height": 295
        },
        "id": "f6KsOqOlTWYf",
        "outputId": "e9c9ddd2-03a7-49c2-9228-92f5b72f6a19"
      },
      "execution_count": 8,
      "outputs": [
        {
          "output_type": "display_data",
          "data": {
            "text/plain": [
              "<Figure size 432x288 with 1 Axes>"
            ],
            "image/png": "[encoded data removed]"
          },
          "metadata": {
            "needs_background": "light"
          }
        }
      ]
    },
    {
      "cell_type": "code",
      "source": [
        "plt.plot(history.history['loss'])\n",
        "plt.plot(history.history['val_loss'])\n",
        "plt.title('Plot Akurasi')\n",
        "plt.ylabel('accuracy')\n",
        "plt.xlabel('epoch')\n",
        "plt.legend(['train', 'val'], loc='upper left')\n",
        "plt.show()"
      ],
      "metadata": {
        "colab": {
          "base_uri": "https://localhost:8080/",
          "height": 295
        },
        "id": "-PHyNLuvUFNj",
        "outputId": "3f8c930a-e97b-454a-df25-50aaea6b94c0"
      },
      "execution_count": 9,
      "outputs": [
        {
          "output_type": "display_data",
          "data": {
            "text/plain": [
              "<Figure size 432x288 with 1 Axes>"
            ],
            "image/png": "[encoded data removed]"
          },
          "metadata": {
            "needs_background": "light"
          }
        }
      ]
    },
    {
      "cell_type": "code",
      "source": [
        "import pathlib\n",
        "converter = tf.lite.TFLiteConverter.from_saved_model(export_dir)\n",
        "tflite_model = converter.convert()\n",
        " \n",
        "tflite_model_file = pathlib.Path('model.tflite')\n",
        "tflite_model_file.write_bytes(tflite_model)"
      ],
      "metadata": {
        "colab": {
          "base_uri": "https://localhost:8080/"
        },
        "id": "ikCGbbZRUH2G",
        "outputId": "83a94d13-8990-41ce-9721-57b0fc8a7549"
      },
      "execution_count": 11,
      "outputs": [
        {
          "output_type": "stream",
          "name": "stderr",
          "text": [
            "WARNING:absl:Buffer deduplication procedure will be skipped when flatbuffer library is not properly loaded\n"
          ]
        },
        {
          "output_type": "execute_result",
          "data": {
            "text/plain": [
              "67390948"
            ]
          },
          "metadata": {},
          "execution_count": 11
        }
      ]
    }
  ],
  "metadata": {
    "accelerator": "GPU",
    "colab": {
      "collapsed_sections": [],
      "name": "Submission3_Image_Classification_TensorLite.ipynb",
      "provenance": []
    },
    "gpuClass": "standard",
    "kernelspec": {
      "display_name": "Python 3",
      "name": "python3"
    },
    "language_info": {
      "name": "python"
    }
  },
  "nbformat": 4,
  "nbformat_minor": 0
}